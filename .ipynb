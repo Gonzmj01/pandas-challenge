{
 "cells": [
  {
   "cell_type": "code",
   "execution_count": 8,
   "metadata": {},
   "outputs": [],
   "source": [
    "# Dependencies and Setup\n",
    "import csv\n",
    "import pandas as pd\n",
    "import numpy as np\n",
    "import matplotlib.pyplot as plt\n"
   ]
  },
  {
   "cell_type": "code",
   "execution_count": null,
   "metadata": {},
   "outputs": [],
   "source": [
    "# File to Load (Remember to Change These)\n",
    "school_data_to_load = \"Resources/schools_complete.csv\"\n",
    "student_data_to_load = \"Resources/students_complete.csv\"\n",
    "\n",
    "# Read School and Student Data File and store into Pandas Data Frames\n",
    "school_data = pd.read_csv(school_data_to_load)\n",
    "student_data = pd.read_csv(student_data_to_load)"
   ]
  },
  {
   "cell_type": "code",
   "execution_count": null,
   "metadata": {},
   "outputs": [],
   "source": [
    "# Copy of school_df to reuse later througout code\n",
    "copy_school_sum = school_df.copy()"
   ]
  },
  {
   "cell_type": "code",
   "execution_count": null,
   "metadata": {},
   "outputs": [],
   "source": [
    "# Combine the data into a single dataset\n",
    "school_data_complete = pd.merge(student_df, school_df, how=\"left\", on=[\"school_name\", \"school_name\"])"
   ]
  },
  {
   "cell_type": "code",
   "execution_count": null,
   "metadata": {},
   "outputs": [],
   "source": [
    "## Total Schools\n",
    "total_schools = school_df[\"school name\"].count()\n",
    "#print(total_schools)\n",
    "\n",
    "## Total Students\n",
    "total_students = student_df[\"school name\"].count()\n",
    "#print(total_students)\n",
    "\n",
    "## Total Budget\n",
    "total_budget = school_df[\"budget\"].sum()\n",
    "\n",
    "## Average Math Score\n",
    "avg_math_score = student_df[\"math_score\"].mean()\n",
    "\n",
    "## Average Reading Score\n",
    "avg_read_score = student_df[\"reading_score\"].mean()"
   ]
  },
  {
   "cell_type": "code",
   "execution_count": null,
   "metadata": {},
   "outputs": [],
   "source": [
    "## % Passing Math based on 70\n",
    "math_pass = renamed_student_df.loc[(student_df[\"math_score\"] >= 70)]\n",
    "\n",
    "count_pass_math = math_pass[\"math_score\"].count()\n",
    "#print(count_pass_math)\n",
    "\n",
    "per_math_pass = (count_pass_math/total_students)*100\n",
    "#print(per_math_pass)"
   ]
  },
  {
   "cell_type": "code",
   "execution_count": null,
   "metadata": {},
   "outputs": [],
   "source": [
    "## % Passing Reading based on 70\n",
    "read_pass = student_df.loc[(student_df[\"reading_score\"] >= 70)]\n",
    "\n",
    "count_pass_read = read_pass[\"reading_score\"].count()\n",
    "#print(count_pass_read)\n",
    "\n",
    "per_read_pass = (count_pass_read/total_students)*100\n",
    "#print(per_read_pass)"
   ]
  },
  {
   "cell_type": "code",
   "execution_count": null,
   "metadata": {},
   "outputs": [],
   "source": [
    "## Overall Passing Rate (Average of the above two)\n",
    "overall_pass = (per_math_pass + per_read_pass)/2\n",
    "#print(overall_pass)"
   ]
  },
  {
   "cell_type": "code",
   "execution_count": null,
   "metadata": {},
   "outputs": [],
   "source": [
    "district_summary = {\"Total Schools\" : total_schools,\n",
    "                   \"Total Students\" : total_students,\n",
    "                   \"Total Budget\" : total_budget,\n",
    "                   \"Average Math Score\" : avg_math_score,\n",
    "                   \"Average Reading Score\" : avg_read_score,\n",
    "                    \"% Passing Math\" : per_math_pass,\n",
    "                   \"% Passing Reading\" : per_read_pass,\n",
    "                   \"% Overall Passing\" : overall_pass\n",
    "                  }\n",
    "\n",
    "\n",
    "district_summary_df = pd.DataFrame([district_summary])                                              \n",
    "                                   \n",
    "district_summary_df = district_summary_df[[\"Total Schools\",\n",
    "                   \"Total Students\",\"Total Budget\",\"Average Math Score\", \"Average Reading Score\",\n",
    "                   \"% Passing Math\", \"% Passing Reading\", \"% Overall Passing\" ]]"
   ]
  },
  {
   "cell_type": "code",
   "execution_count": null,
   "metadata": {},
   "outputs": [],
   "source": [
    "district_summary_df"
   ]
  },
  {
   "cell_type": "code",
   "execution_count": null,
   "metadata": {},
   "outputs": [],
   "source": [
    "del copy_school_sum['School ID']"
   ]
  },
  {
   "cell_type": "code",
   "execution_count": null,
   "metadata": {},
   "outputs": [],
   "source": [
    "copy_school_sum['Per Student Budget'] = copy_school_sum['budget']/copy_school_sum['size']"
   ]
  },
  {
   "cell_type": "code",
   "execution_count": null,
   "metadata": {},
   "outputs": [],
   "source": [
    "\n",
    "avg_math_read_tbl = renamed_student_df.groupby(['school name'])['reading_score', 'math_score'].mean().reset_index("
   ]
  },
  {
   "cell_type": "code",
   "execution_count": null,
   "metadata": {},
   "outputs": [],
   "source": [
    "copy_school_sum = copy_school_sum.merge(avg_math_read_tbl, on='school name', how=\""
   ]
  },
  {
   "cell_type": "code",
   "execution_count": null,
   "metadata": {},
   "outputs": [],
   "source": [
    "# % Passing Reading\n",
    "summary_passing_read = renamed_student_df[renamed_student_df['reading_score']>=70]\n",
    "\n",
    "# % Passing Math\n",
    "summary_passing_math = renamed_student_df[renamed_student_df['math_score']>=70"
   ]
  },
  {
   "cell_type": "code",
   "execution_count": null,
   "metadata": {},
   "outputs": [],
   "source": [
    "## Count the number of students passing in reading \n",
    "pass_read_count_sum = summary_passing_read.groupby([\"school name\"])['reading_score'].count().reset_index()\n",
    "\n",
    "## Rename column 'reading_score' to 'Reading Count'\n",
    "pass_read_count_sum.rename_axis({'reading_score' : 'Reading Count'}, axis=1, inplace=True)"
   ]
  },
  {
   "cell_type": "code",
   "execution_count": null,
   "metadata": {},
   "outputs": [],
   "source": [
    "## Count the number of students passing in math \n",
    "pass_math_count_sum = summary_passing_math.groupby([\"school name\"])['math_score'].count().reset_index()\n",
    "\n",
    "## Rename column 'math_score' to 'Math Count'\n",
    "pass_math_count_sum.rename_axis({'math_score' : 'Math Count'}, axis=1, inplace=True)"
   ]
  },
  {
   "cell_type": "code",
   "execution_count": null,
   "metadata": {},
   "outputs": [],
   "source": [
    "pass_count = pass_math_count_sum.merge(pass_read_count_sum, on=\"school name\", how='inner')"
   ]
  },
  {
   "cell_type": "code",
   "execution_count": null,
   "metadata": {},
   "outputs": [],
   "source": [
    "copy_school_sum = copy_school_sum.merge(pass_count, on=\"school name\", how='outer')"
   ]
  },
  {
   "cell_type": "code",
   "execution_count": null,
   "metadata": {},
   "outputs": [],
   "source": [
    "# % Passing Math\n",
    "copy_school_sum['% Passing Math'] = (copy_school_sum['Math Count']/copy_school_sum['size'])*100\n",
    "\n",
    "# % Passing Reading\n",
    "copy_school_sum['% Passing Reading'] = (copy_school_sum['Reading Count']/copy_school_sum['size'])*100"
   ]
  },
  {
   "cell_type": "code",
   "execution_count": null,
   "metadata": {},
   "outputs": [],
   "source": [
    "## Overall Passing Rate (Average of the above two)\n",
    "\n",
    "copy_school_sum['% Overall Passing'] = (copy_school_sum['% Passing Math'] + copy_school_sum['% Passing Reading'])/2"
   ]
  },
  {
   "cell_type": "code",
   "execution_count": null,
   "metadata": {},
   "outputs": [],
   "source": [
    "copy_school_sum.rename_axis({'reading_score':'Avg. Reading Score',\n",
    "                             'math_score':'Avg. Math Score'}, axis=1, inplace=True)"
   ]
  },
  {
   "cell_type": "code",
   "execution_count": null,
   "metadata": {},
   "outputs": [],
   "source": [
    "copy_school_sum"
   ]
  },
  {
   "cell_type": "code",
   "execution_count": null,
   "metadata": {},
   "outputs": [],
   "source": [
    "top_performing_by_pr_df = copy_school_sum.sort_values(by=['% Overall Passing'], ascending=False).head(5)"
   ]
  },
  {
   "cell_type": "code",
   "execution_count": null,
   "metadata": {},
   "outputs": [],
   "source": [
    "top_performing_by_pr_df.head(5)"
   ]
  },
  {
   "cell_type": "code",
   "execution_count": null,
   "metadata": {},
   "outputs": [],
   "source": [
    "worst_performing_by_pr_df = copy_school_sum.sort_values(by=['% Overall Passing']).head(5)"
   ]
  },
  {
   "cell_type": "code",
   "execution_count": null,
   "metadata": {},
   "outputs": [],
   "source": [
    "worst_performing_by_pr_df"
   ]
  },
  {
   "cell_type": "code",
   "execution_count": null,
   "metadata": {},
   "outputs": [],
   "source": [
    "math_scores_by_grade_df = pd.pivot_table(student_df, values=['math_score'], index=['school'], \n",
    "                                         columns=['grade'])\n",
    "math_scores_by_grade_df = math_scores_by_grade_df.reindex_axis(labels=['9th',\n",
    "                                                                    '10th',\n",
    "                                                                    '11th',\n",
    "                                                                    '12th'], axis=1, level=1)"
   ]
  },
  {
   "cell_type": "code",
   "execution_count": null,
   "metadata": {},
   "outputs": [],
   "source": [
    "math_scores_by_grade_df"
   ]
  },
  {
   "cell_type": "code",
   "execution_count": null,
   "metadata": {},
   "outputs": [],
   "source": [
    "read_scores_by_grade_df = pd.pivot_table(student_df, values=['reading_score'], index=['school'], \n",
    "                                         columns=['grade'])\n",
    "read_scores_by_grade_df = read_scores_by_grade_df.reindex_axis(labels=['9th',\n",
    "                                                                    '10th',\n",
    "                                                                    '11th',\n",
    "                                                                    '12th'], axis=1, level=1)"
   ]
  },
  {
   "cell_type": "code",
   "execution_count": null,
   "metadata": {},
   "outputs": [],
   "source": [
    "read_scores_by_grade_df"
   ]
  },
  {
   "cell_type": "code",
   "execution_count": null,
   "metadata": {},
   "outputs": [],
   "source": [
    "scores_by_school_spending = copy_school_sum.copy()"
   ]
  },
  {
   "cell_type": "code",
   "execution_count": null,
   "metadata": {},
   "outputs": [],
   "source": [
    "spending_bins = [0, 585, 615, 645, 675]\n",
    "group_names = [\"<$585\", \"$585-615\", \"$615-645\", \"$645-675\"]"
   ]
  },
  {
   "cell_type": "code",
   "execution_count": null,
   "metadata": {},
   "outputs": [],
   "source": [
    "bins_school_spending = pd.cut(scores_by_school_spending['Per Student Budget'], bins, labels=spending_labels)\n",
    "\n",
    "bins_school_spending = pd.DataFrame(bins_school_spending)\n",
    " \n",
    "copy_school_sum['Spending Level'] = bins_school_spending"
   ]
  },
  {
   "cell_type": "code",
   "execution_count": null,
   "metadata": {},
   "outputs": [],
   "source": [
    "scores_by_school_spending = copy_school_sum.groupby(['Spending Level'])['Avg. Reading Score',\n",
    "                                                         'Avg. Math Score',\n",
    "                                                         '% Passing Reading',\n",
    "                                                         '% Passing Math',\n",
    "                                                         '% Overall Passing'\n",
    "                                                         ].mean("
   ]
  },
  {
   "cell_type": "code",
   "execution_count": null,
   "metadata": {},
   "outputs": [],
   "source": [
    "scores_by_school_spending"
   ]
  },
  {
   "cell_type": "code",
   "execution_count": null,
   "metadata": {},
   "outputs": [],
   "source": [
    "scores_by_school_size = copy_school_sum.copy()"
   ]
  },
  {
   "cell_type": "code",
   "execution_count": null,
   "metadata": {},
   "outputs": [],
   "source": [
    "size_bins = [0, 1000, 2000, 5000]\n",
    "group_names = [\"Small (<1000)\", \"Medium (1000-2000)\", \"Large (2000-5000)\"]"
   ]
  },
  {
   "cell_type": "code",
   "execution_count": null,
   "metadata": {},
   "outputs": [],
   "source": [
    "bins_school_size = pd.cut(scores_by_school_size['size'], bins, labels = size_labels)\n",
    "\n",
    "bins_school_size = pd.DataFrame(bins_school_size)\n",
    " \n",
    "copy_school_sum['School Population'] = bins_school_size"
   ]
  },
  {
   "cell_type": "code",
   "execution_count": null,
   "metadata": {},
   "outputs": [],
   "source": [
    "scores_by_school_size = copy_school_sum.groupby(['School Population','school name'])['Avg. Reading Score',\n",
    "                                                         'Avg. Math Score',\n",
    "                                                         '% Passing Reading',\n",
    "                                                         '% Passing Math',\n",
    "                                                         '% Overall Passing'\n",
    "                                                         ].mean()"
   ]
  },
  {
   "cell_type": "code",
   "execution_count": null,
   "metadata": {},
   "outputs": [],
   "source": [
    "scores_by_school_size"
   ]
  },
  {
   "cell_type": "code",
   "execution_count": null,
   "metadata": {},
   "outputs": [],
   "source": [
    "scores_by_school_type = copy_school_sum.copy()\n",
    "\n",
    "scores_by_school_type = pd.DataFrame(scores_by_school_type)"
   ]
  },
  {
   "cell_type": "code",
   "execution_count": null,
   "metadata": {},
   "outputs": [],
   "source": [
    "scores_by_school_type = copy_school_sum.groupby(['type'])['Avg. Reading Score',\n",
    "                                                         'Avg. Math Score',\n",
    "                                                         '% Passing Reading',\n",
    "                                                         '% Passing Math',\n",
    "                                                         '% Overall Passing'\n",
    "                                                         ].mean()"
   ]
  },
  {
   "cell_type": "code",
   "execution_count": null,
   "metadata": {},
   "outputs": [],
   "source": [
    "scores_by_school_type.head()"
   ]
  }
 ],
 "metadata": {
  "kernelspec": {
   "display_name": "Python 3",
   "language": "python",
   "name": "python3"
  },
  "language_info": {
   "codemirror_mode": {
    "name": "ipython",
    "version": 3
   },
   "file_extension": ".py",
   "mimetype": "text/x-python",
   "name": "python",
   "nbconvert_exporter": "python",
   "pygments_lexer": "ipython3",
   "version": "3.7.4"
  }
 },
 "nbformat": 4,
 "nbformat_minor": 2
}
